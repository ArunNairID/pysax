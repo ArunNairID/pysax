{
 "cells": [
  {
   "cell_type": "markdown",
   "metadata": {},
   "source": [
    "## Symbolic Aggregate Approximation\n",
    "\n",
    "### 1.  [reference](http://dl.acm.org/citation.cfm?id=1285965)\n",
    "### 2. main usage for time series data:\n",
    "1. indexing and query\n",
    "2. calculating distance between time-sereis and thus perform clustering/classification\n",
    "3. symbolic representation for time series - inspiring text-mining related tasks such as association mining\n",
    "4. vector representation of time-series\n",
    "    \n",
    "### 3. algorithm steps\n",
    "\n",
    "1. Segment time-series data into gapless pieces (e.g., gap introduced by missing values or change of sampling frequences)\n",
    "\n",
    "2. Each piece will be SAXed into a sequence of \"words\" (e.g., \"abcdd\" \"aabcd\", ...). This is done by rolling a sliding window of length $window$ with a stride of length $stride$. If $stride$ < $window$, there will be overlapping of different windows. Later each window will be converted into one word\n",
    "\n",
    "3. for each sliding window:\n",
    "\n",
    "    3.1 whiten/normalize across the window (it is the step key to many problems)\n",
    "    \n",
    "    3.2 discretize on time axis (index) by grouping points into equal-sized bins (bin sizes could be fractional) - controlled by $nbins$. For each bin, use the mean of bin as local approximation.\n",
    "    \n",
    "    3.3 discretize on value axis by dividing values into $nlevels$ quantiles (equiprobability), for each level, calculate the \"letter\" by $cutpoint$ table\n",
    "    \n",
    "    3.4 at the end, each bin in a sliding window will be mapped to a letter, each window in the piece of time-series will be mapped to a word, and the whole piece of series will be a sentence\n",
    "    \n",
    "    3.5 calcualte the distance between two symoblic representations by their corresponding levels\n",
    "    \n",
    "    3.6 if a vector representation is necessary, each letter can be mapped to a scalar value, such as the mean of the  corresponding level."
   ]
  },
  {
   "cell_type": "markdown",
   "metadata": {},
   "source": [
    "## sax module test"
   ]
  },
  {
   "cell_type": "code",
   "execution_count": 21,
   "metadata": {
    "collapsed": false
   },
   "outputs": [],
   "source": [
    "import pysax\n",
    "import numpy as np\n",
    "reload(pysax)\n",
    "sax = pysax.SAXModel(window=3, stride=2) "
   ]
  },
  {
   "cell_type": "code",
   "execution_count": 22,
   "metadata": {
    "collapsed": false
   },
   "outputs": [
    {
     "data": {
      "text/plain": [
       "[slice(0, 3, None), slice(2, 5, None), slice(4, 7, None), slice(6, 9, None)]"
      ]
     },
     "execution_count": 22,
     "metadata": {},
     "output_type": "execute_result"
    }
   ],
   "source": [
    "\n",
    "list(sax.sliding_window_index(10))"
   ]
  },
  {
   "cell_type": "code",
   "execution_count": 25,
   "metadata": {
    "collapsed": false
   },
   "outputs": [
    {
     "name": "stdout",
     "output_type": "stream",
     "text": [
      "0.524387272869 0.214122501064\n",
      "2.58126853225e-16 0.999999999533\n"
     ]
    }
   ],
   "source": [
    "ws = np.random.random(10)\n",
    "print ws.mean(), ws.std()\n",
    "ss = sax.whiten(ws)\n",
    "print ss.mean(), ss.std() "
   ]
  },
  {
   "cell_type": "code",
   "execution_count": 19,
   "metadata": {
    "collapsed": false
   },
   "outputs": [
    {
     "data": {
      "text/plain": [
       "array([ 0.30291988,  0.58340595,  0.31254414,  0.92532847,  0.67185901,\n",
       "        0.59398496,  0.79084947,  0.74645292,  0.66051761,  0.23549668])"
      ]
     },
     "execution_count": 19,
     "metadata": {},
     "output_type": "execute_result"
    }
   ],
   "source": [
    "ws"
   ]
  },
  {
   "cell_type": "code",
   "execution_count": null,
   "metadata": {
    "collapsed": true
   },
   "outputs": [],
   "source": []
  }
 ],
 "metadata": {
  "kernelspec": {
   "display_name": "Python 2",
   "language": "python",
   "name": "python2"
  },
  "language_info": {
   "codemirror_mode": {
    "name": "ipython",
    "version": 2
   },
   "file_extension": ".py",
   "mimetype": "text/x-python",
   "name": "python",
   "nbconvert_exporter": "python",
   "pygments_lexer": "ipython2",
   "version": "2.7.6"
  }
 },
 "nbformat": 4,
 "nbformat_minor": 0
}
