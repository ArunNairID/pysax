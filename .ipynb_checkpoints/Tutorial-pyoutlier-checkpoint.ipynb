{
 "cells": [
  {
   "cell_type": "code",
   "execution_count": 122,
   "metadata": {
    "collapsed": true
   },
   "outputs": [],
   "source": [
    "%matplotlib inline\n",
    "import matplotlib.pyplot as plt"
   ]
  },
  {
   "cell_type": "code",
   "execution_count": 15,
   "metadata": {
    "collapsed": false,
    "scrolled": true
   },
   "outputs": [
    {
     "name": "stdout",
     "output_type": "stream",
     "text": [
      "The autoreload extension is already loaded. To reload it, use:\n",
      "  %reload_ext autoreload\n"
     ]
    }
   ],
   "source": [
    "%load_ext autoreload\n",
    "%autoreload 2\n",
    "\n",
    "import pysax\n",
    "import pysequitur\n",
    "import pyoutlier\n",
    "import numpy as np "
   ]
  },
  {
   "cell_type": "markdown",
   "metadata": {},
   "source": [
    "## test pyoutlierdetection"
   ]
  },
  {
   "cell_type": "code",
   "execution_count": 169,
   "metadata": {
    "collapsed": true
   },
   "outputs": [],
   "source": [
    "detector = pyoutlier.TSOutlierDetection(sax_params = dict(window = 100, stride = 10, nbins = 4, alphabet = \"ABCD\"), \n",
    "                                        sequitur_params = dict(sequitur_path=\"sequitur/sequitur\"))\n",
    "xs = np.random.randn(1000000)"
   ]
  },
  {
   "cell_type": "code",
   "execution_count": 170,
   "metadata": {
    "collapsed": false
   },
   "outputs": [
    {
     "name": "stdout",
     "output_type": "stream",
     "text": [
      "save temp file at /tmp/tmpdK3I7k\n",
      "CPU times: user 783 ms, sys: 509 ms, total: 1.29 s\n",
      "Wall time: 6.29 s\n",
      "CPU times: user 150 ms, sys: 0 ns, total: 150 ms\n",
      "Wall time: 151 ms\n",
      "99991 77942 772\n",
      "CPU times: user 107 ms, sys: 20.2 ms, total: 127 ms\n",
      "Wall time: 856 ms\n",
      "CPU times: user 5.05 ms, sys: 0 ns, total: 5.05 ms\n",
      "Wall time: 5 ms\n"
     ]
    }
   ],
   "source": [
    "%time symbols = detector.sax_symbolize(xs)\n",
    "%time reduced_symbols, reduced_symbol_indices = detector.numerosity_reduce(symbols)\n",
    "print len(symbols), len(reduced_symbols), len(indices)\n",
    "%time word_occurrences = detector.grammar_induce(reduced_symbols)\n",
    "%time outliers = detector.mine_infrequent_segments(word_occurrences, threshold=5)"
   ]
  },
  {
   "cell_type": "code",
   "execution_count": 171,
   "metadata": {
    "collapsed": false
   },
   "outputs": [
    {
     "data": {
      "image/png": "[encoded data removed]",
      "text/plain": [
       "<matplotlib.figure.Figure at 0x446c150>"
      ]
     },
     "metadata": {},
     "output_type": "display_data"
    }
   ],
   "source": [
    "_ = plt.hist(word_occurrences, bins = 50)"
   ]
  },
  {
   "cell_type": "code",
   "execution_count": 172,
   "metadata": {
    "collapsed": false
   },
   "outputs": [
    {
     "data": {
      "text/plain": [
       "[(slice(2396, 2397, None), ['CACC'], 1),\n",
       " (slice(6355, 6356, None), ['BBBD'], 0),\n",
       " (slice(10822, 10823, None), ['DBBB'], 0),\n",
       " (slice(11348, 11349, None), ['ACCC'], 0),\n",
       " (slice(12626, 12627, None), ['BCDB'], 0),\n",
       " (slice(13746, 13747, None), ['ACCB'], 0),\n",
       " (slice(14583, 14584, None), ['BBDB'], 0),\n",
       " (slice(15943, 15944, None), ['BBDB'], 0),\n",
       " (slice(29515, 29516, None), ['CBDB'], 0),\n",
       " (slice(30571, 30572, None), ['CACC'], 1),\n",
       " (slice(37697, 37698, None), ['BBBD'], 0),\n",
       " (slice(40005, 40006, None), ['CCAC'], 0),\n",
       " (slice(40010, 40011, None), ['ACCC'], 0),\n",
       " (slice(43316, 43317, None), ['CCAC'], 0),\n",
       " (slice(56158, 56159, None), ['CCCA'], 0),\n",
       " (slice(56163, 56164, None), ['CACC'], 1),\n",
       " (slice(61895, 61896, None), ['BDBB'], 0),\n",
       " (slice(64376, 64377, None), ['BBDB'], 0),\n",
       " (slice(83945, 83946, None), ['BBBD'], 0),\n",
       " (slice(83950, 83951, None), ['BDBB'], 0),\n",
       " (slice(85450, 85451, None), ['BCBD'], 0),\n",
       " (slice(86406, 86407, None), ['BBDB'], 0),\n",
       " (slice(97447, 97448, None), ['BBDB'], 0),\n",
       " (slice(97452, 97453, None), ['DBBB'], 0)]"
      ]
     },
     "execution_count": 172,
     "metadata": {},
     "output_type": "execute_result"
    }
   ],
   "source": [
    "[ (i, symbols[i], wc) for i,wc in zip(np.array(reduced_symbol_indices)[outliers], \n",
    "                                      np.asarray(word_occurrences)[outliers])]"
   ]
  },
  {
   "cell_type": "code",
   "execution_count": null,
   "metadata": {
    "collapsed": true
   },
   "outputs": [],
   "source": []
  }
 ],
 "metadata": {
  "kernelspec": {
   "display_name": "Python 2",
   "language": "python",
   "name": "python2"
  },
  "language_info": {
   "codemirror_mode": {
    "name": "ipython",
    "version": 2
   },
   "file_extension": ".py",
   "mimetype": "text/x-python",
   "name": "python",
   "nbconvert_exporter": "python",
   "pygments_lexer": "ipython2",
   "version": "2.7.5+"
  }
 },
 "nbformat": 4,
 "nbformat_minor": 0
}
