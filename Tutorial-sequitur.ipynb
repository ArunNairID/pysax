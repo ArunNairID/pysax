{
 "cells": [
  {
   "cell_type": "code",
   "execution_count": 1,
   "metadata": {
    "collapsed": false
   },
   "outputs": [
    {
     "name": "stdout",
     "output_type": "stream",
     "text": [
      "reload!\n"
     ]
    }
   ],
   "source": [
    "%matplotlib inline\n",
    "%load_ext autoreload\n",
    "%autoreload 2\n",
    "import matplotlib.pyplot as plt\n",
    "import pysequitur"
   ]
  },
  {
   "cell_type": "markdown",
   "metadata": {},
   "source": [
    "### Explore"
   ]
  },
  {
   "cell_type": "code",
   "execution_count": 34,
   "metadata": {
    "collapsed": false
   },
   "outputs": [
    {
     "name": "stdout",
     "output_type": "stream",
     "text": [
      "0 -> 1 1 2 d d d a \n",
      "1 -> 2 c \tabc\n",
      "2 -> a b \tab\n",
      "\n"
     ]
    }
   ],
   "source": [
    "from subprocess import Popen, PIPE, STDOUT\n",
    "command = Popen([\"sequitur/sequitur\", \"-p\", \"-r\"], stdin=PIPE, stdout=PIPE)\n",
    "print command.communicate(\"abcabcabddda\")[0]"
   ]
  },
  {
   "cell_type": "code",
   "execution_count": 29,
   "metadata": {
    "collapsed": false
   },
   "outputs": [
    {
     "name": "stdout",
     "output_type": "stream",
     "text": [
      "71\n"
     ]
    }
   ],
   "source": [
    "charset = \"abcdefghijklmnopqrstuvwxyzABCDEFGHIJKLMNOPQRSTUVWXYZ!#$%&*+,-.:;<=>?@[]\"\n",
    "print len(charset)"
   ]
  },
  {
   "cell_type": "markdown",
   "metadata": {},
   "source": [
    "## Test pysequitur"
   ]
  },
  {
   "cell_type": "code",
   "execution_count": 83,
   "metadata": {
    "collapsed": false
   },
   "outputs": [
    {
     "name": "stdout",
     "output_type": "stream",
     "text": [
      "\n",
      "raw_rules: \n",
      "0 -> abc 1 abd 1 abc abc 2 \n",
      "1 -> 2 abd \tabcabdabd\n",
      "2 -> abc abd \tabcabd\n",
      "\n",
      "rule0: \n",
      "abc 1 abd 1 abc abc 2 \n",
      "\n",
      "rules: \n",
      "{1: {'body': ['2', 'abd'], 'expansion': ['abc', 'abd', 'abd']}, 2: {'body': ['abc', 'abd'], 'expansion': ['abc', 'abd']}}\n"
     ]
    }
   ],
   "source": [
    "sm = pysequitur.SequiturModel(\"sequitur/sequitur\")\n",
    "sm.fit(\"abc abc abd abd abd abc abd abd abc abc abc abd\".split())\n",
    "print \"\\nraw_rules: \\n\", sm.raw_rules\n",
    "print \"\\nrule0: \\n\", sm.rule0\n",
    "print \"\\nrules: \\n\", sm.rules"
   ]
  },
  {
   "cell_type": "code",
   "execution_count": null,
   "metadata": {
    "collapsed": true
   },
   "outputs": [],
   "source": []
  }
 ],
 "metadata": {
  "kernelspec": {
   "display_name": "Python 2",
   "language": "python",
   "name": "python2"
  },
  "language_info": {
   "codemirror_mode": {
    "name": "ipython",
    "version": 2
   },
   "file_extension": ".py",
   "mimetype": "text/x-python",
   "name": "python",
   "nbconvert_exporter": "python",
   "pygments_lexer": "ipython2",
   "version": "2.7.6"
  }
 },
 "nbformat": 4,
 "nbformat_minor": 0
}
