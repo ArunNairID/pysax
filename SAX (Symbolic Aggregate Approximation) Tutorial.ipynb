{
 "cells": [
  {
   "cell_type": "markdown",
   "metadata": {},
   "source": [
    "## Symbolic Aggregate Approximation\n",
    "\n",
    "### 1.  [reference](http://dl.acm.org/citation.cfm?id=1285965)\n",
    "### 2. main usage for time series data:\n",
    "1. indexing and query\n",
    "2. calculating distance between time-sereis and thus perform clustering/classification\n",
    "3. symbolic representation for time series - inspiring text-mining related tasks such as association mining\n",
    "4. vector representation of time-series\n",
    "    \n",
    "### 3. algorithm steps\n",
    "\n",
    "1. Segment time-series data into gapless pieces (e.g., gap introduced by missing values or change of sampling frequences)\n",
    "\n",
    "2. Each piece will be SAXed into a sequence of \"words\" (e.g., \"abcdd\" \"aabcd\", ...). This is done by rolling a sliding window of length $window$ with a stride of length $stride$. If $stride$ < $window$, there will be overlapping of different windows. Later each window will be converted into one word\n",
    "\n",
    "3. for each sliding window:\n",
    "\n",
    "    3.1 whiten/normalize across the window (it is the step key to many problems)\n",
    "    \n",
    "    3.2 discretize on time axis (index) by grouping points into equal-sized bins (bin sizes could be fractional) - controlled by $nbins$. For each bin, use the mean of bin as local approximation.\n",
    "    \n",
    "    3.3 discretize on value axis by dividing values into $nlevels$ quantiles (equiprobability), for each level, calculate the \"letter\" by $cutpoint$ table\n",
    "    \n",
    "    3.4 at the end, each bin in a sliding window will be mapped to a letter, each window in the piece of time-series will be mapped to a word, and the whole piece of series will be a sentence\n",
    "    \n",
    "    3.5 calcualte the distance between two symoblic representations by their corresponding levels\n",
    "    \n",
    "    3.6 if a vector representation is necessary, each letter can be mapped to a scalar value, such as the mean of the  corresponding level."
   ]
  },
  {
   "cell_type": "markdown",
   "metadata": {},
   "source": [
    "## sax module test"
   ]
  },
  {
   "cell_type": "code",
   "execution_count": 1,
   "metadata": {
    "collapsed": true
   },
   "outputs": [],
   "source": [
    "import matplotlib.pyplot as plt\n",
    "%matplotlib inline"
   ]
  },
  {
   "cell_type": "code",
   "execution_count": 2,
   "metadata": {
    "collapsed": false
   },
   "outputs": [
    {
     "data": {
      "text/plain": [
       "<module 'pysax' from 'pysax.pyc'>"
      ]
     },
     "execution_count": 2,
     "metadata": {},
     "output_type": "execute_result"
    }
   ],
   "source": [
    "import pysax\n",
    "import numpy as np\n",
    "reload(pysax)\n"
   ]
  },
  {
   "cell_type": "code",
   "execution_count": 3,
   "metadata": {
    "collapsed": false
   },
   "outputs": [
    {
     "data": {
      "text/plain": [
       "{'A': -0.67, 'B': -0.335, 'C': 0.335, 'D': 0.67}"
      ]
     },
     "execution_count": 3,
     "metadata": {},
     "output_type": "execute_result"
    }
   ],
   "source": [
    "sax = pysax.SAXModel(window=3, stride=2) \n",
    "sax.sym2vec"
   ]
  },
  {
   "cell_type": "code",
   "execution_count": 4,
   "metadata": {
    "collapsed": false
   },
   "outputs": [
    {
     "name": "stdout",
     "output_type": "stream",
     "text": [
      "0.361470138594 0.270188127993\n",
      "-2.22044604925e-17 0.99999999963\n"
     ]
    }
   ],
   "source": [
    "## test normalization\n",
    "sax = pysax.SAXModel(window=3, stride=2) \n",
    "list(sax.sliding_window_index(10))\n",
    "ws = np.random.random(10)\n",
    "print ws.mean(), ws.std()\n",
    "ss = sax.whiten(ws)\n",
    "print ss.mean(), ss.std() "
   ]
  },
  {
   "cell_type": "code",
   "execution_count": 5,
   "metadata": {
    "collapsed": false
   },
   "outputs": [
    {
     "name": "stdout",
     "output_type": "stream",
     "text": [
      "[[(0, 1), (1, 1), (2, 1), (3, Fraction(1, 5))], [(3, Fraction(4, 5)), (4, 1), (5, 1), (6, Fraction(2, 5))], [(6, Fraction(3, 5)), (7, 1), (8, 1), (9, Fraction(3, 5))], [(9, Fraction(2, 5)), (10, 1), (11, 1), (12, Fraction(4, 5))], [(12, Fraction(1, 5)), (13, 1), (14, 1), (15, 1)]]\n",
      "[[(0, 1), (1, 1), (2, 1), (3, 1)], [(4, Fraction(1, 1)), (5, 1), (6, 1), (7, 1)], [(8, Fraction(1, 1)), (9, 1), (10, 1), (11, 1)], [(12, Fraction(1, 1)), (13, 1), (14, 1), (15, 1)]]\n",
      "[[(0, 1), (1, Fraction(2, 3))], [(1, Fraction(1, 3)), (2, 1), (3, Fraction(1, 3))], [(3, Fraction(2, 3)), (4, 1)]]\n"
     ]
    }
   ],
   "source": [
    "## explore binning\n",
    "\n",
    "from fractions import Fraction\n",
    "def binpack(xs, nbins):\n",
    "    xs = np.asarray(xs)\n",
    "    binsize = Fraction(len(xs), nbins)\n",
    "    wts = [1 for _ in xrange(int(binsize))] + [binsize-int(binsize)]\n",
    "    pos = 0\n",
    "    while pos < len(xs):\n",
    "        if wts[-1] == 0:\n",
    "            n = len(wts) - 1\n",
    "        else:\n",
    "            n = len(wts)\n",
    "        yield zip(xs[pos:(pos+n)], wts[:n])\n",
    "        pos += len(wts) - 1\n",
    "        rest_wts = binsize-(1-wts[-1])\n",
    "        wts = [1-wts[-1]] + [1 for _ in xrange(int(rest_wts))] + [rest_wts-int(rest_wts)]\n",
    "        \n",
    "xs = range(0, 16)\n",
    "print list(binpack(xs, 5))\n",
    "xs = range(0, 16)\n",
    "print list(binpack(xs, 4))\n",
    "xs = range(0, 5)\n",
    "print list(binpack(xs, 3))"
   ]
  },
  {
   "cell_type": "code",
   "execution_count": 6,
   "metadata": {
    "collapsed": false
   },
   "outputs": [
    {
     "name": "stdout",
     "output_type": "stream",
     "text": [
      "[array([1.0, 0.6666666666666666], dtype=object), array([0.3333333333333333, 1.0, 0.3333333333333333], dtype=object), array([0.6666666666666666, 1.0], dtype=object)]\n",
      "\n",
      "[array([ 1.,  1.,  1.]), array([1.0, 1.0, 1.0], dtype=object), array([1.0, 1.0, 1.0], dtype=object)]\n"
     ]
    }
   ],
   "source": [
    "## test binning\n",
    "sax = pysax.SAXModel(nbins=3) \n",
    "print list(sax.binpack(np.ones(5)))\n",
    "print \n",
    "print list(sax.binpack(np.ones(9)))"
   ]
  },
  {
   "cell_type": "code",
   "execution_count": 7,
   "metadata": {
    "collapsed": false
   },
   "outputs": [
    {
     "data": {
      "text/plain": [
       "[B, C, B, B, B, B, B, C, C, C]\n",
       "Categories (3, object): [A < B < C]"
      ]
     },
     "execution_count": 7,
     "metadata": {},
     "output_type": "execute_result"
    }
   ],
   "source": [
    "## explore symbolization\n",
    "import pandas as pd\n",
    "cutpoints = [-np.inf, -0.43, 0.43, np.inf]\n",
    "xs = np.random.random(10)\n",
    "v = pd.cut(xs, bins = cutpoints, labels=[\"A\", \"B\", \"C\"])\n",
    "v"
   ]
  },
  {
   "cell_type": "code",
   "execution_count": 8,
   "metadata": {
    "collapsed": false
   },
   "outputs": [
    {
     "name": "stdout",
     "output_type": "stream",
     "text": [
      "[-2.46602885  0.39134296  1.70215119  0.29374208 -0.57687444  1.36748039\n",
      " -0.75180416  1.40641149 -0.0255657   1.30817964]\n"
     ]
    },
    {
     "data": {
      "text/plain": [
       "[A, C, D, C, B, D, A, D, B, D]\n",
       "Categories (4, object): [A < B < C < D]"
      ]
     },
     "execution_count": 8,
     "metadata": {},
     "output_type": "execute_result"
    }
   ],
   "source": [
    "xs = np.random.randn(10)\n",
    "print xs\n",
    "sax = pysax.SAXModel(window=3, stride=2) \n",
    "sax.symbolize(xs)"
   ]
  },
  {
   "cell_type": "code",
   "execution_count": 9,
   "metadata": {
    "collapsed": false
   },
   "outputs": [
    {
     "name": "stdout",
     "output_type": "stream",
     "text": [
      "[ 1.90920987  0.41399952  2.14886912  4.83136506  2.51270575 -1.37389647\n",
      "  0.37520218 -0.19730388 -3.06401127  0.80359765  1.56664598  1.44602011\n",
      " -1.97262396  3.05136781  3.83575669  1.34578569  0.31728715  3.14381769\n",
      " -0.60718129 -1.46109601]\n"
     ]
    },
    {
     "data": {
      "text/plain": [
       "'DBBCB'"
      ]
     },
     "execution_count": 9,
     "metadata": {},
     "output_type": "execute_result"
    }
   ],
   "source": [
    "sax = pysax.SAXModel(nbins = 5, alphabet=\"ABCD\")\n",
    "xs = np.random.randn(20) * 2 + 1.\n",
    "print xs\n",
    "sax.symbolize_window(xs)"
   ]
  },
  {
   "cell_type": "code",
   "execution_count": 10,
   "metadata": {
    "collapsed": false,
    "scrolled": true
   },
   "outputs": [
    {
     "name": "stdout",
     "output_type": "stream",
     "text": [
      "['CCBBB', 'DBCBB', 'BCBBD', 'BBACC', 'BBCBC', 'CBACC', 'CACCC', 'ACCCB', 'CCBCA', 'CBBAD', 'BBBCC', 'BCCCB', 'CBBBC', 'BACCC', 'ACCCB', 'BBDBB', 'CCBCB']\n"
     ]
    },
    {
     "data": {
      "image/png": "[encoded data removed]",
      "text/plain": [
       "<matplotlib.figure.Figure at 0x7fc4ad2d3ad0>"
      ]
     },
     "metadata": {},
     "output_type": "display_data"
    }
   ],
   "source": [
    "sax = pysax.SAXModel(window=20, stride = 5, nbins = 5, alphabet=\"ABCD\")\n",
    "xs = np.random.randn(103) * 2 + np.arange(103) * 0.03\n",
    "plt.plot(xs)\n",
    "print sax.symbolize_signal(xs)"
   ]
  },
  {
   "cell_type": "code",
   "execution_count": 15,
   "metadata": {
    "collapsed": false
   },
   "outputs": [
    {
     "name": "stdout",
     "output_type": "stream",
     "text": [
      "save temp file at /tmp/tmpCDX1ls\n",
      "CPU times: user 4.01 s, sys: 239 ms, total: 4.25 s\n",
      "Wall time: 38.2 s\n"
     ]
    }
   ],
   "source": [
    "import pysax\n",
    "import numpy as np \n",
    "reload(pysax)\n",
    "sax = pysax.SAXModel(window=20, stride = 5, nbins = 5, alphabet=\"ABCD\")\n",
    "xs = np.random.randn(1000000) * 2 + np.arange(1000000) * 0.03\n",
    "#plt.plot(xs)\n",
    "%time psymbols = sax.symbolize_signal(xs, parallel=\"joblib\", n_jobs=4)\n"
   ]
  },
  {
   "cell_type": "code",
   "execution_count": null,
   "metadata": {
    "collapsed": true
   },
   "outputs": [],
   "source": [
    "sax = pysax.SAXModel(window=20, stride = 5, nbins = 5, alphabet=\"ABCD\")\n",
    "#xs = np.random.randn(1000000) * 2 + np.arange(1000000) * 0.03\n",
    "#plt.plot(xs)\n",
    "%time symbols = sax.symbolize_signal(xs)\n",
    "print np.all(psymbols==symbols)"
   ]
  },
  {
   "cell_type": "code",
   "execution_count": 21,
   "metadata": {
    "collapsed": false
   },
   "outputs": [
    {
     "name": "stdout",
     "output_type": "stream",
     "text": [
      "CPU times: user 648 ms, sys: 15.4 ms, total: 664 ms\n",
      "Wall time: 649 ms\n"
     ]
    },
    {
     "data": {
      "text/plain": [
       "(199997, 5)"
      ]
     },
     "execution_count": 21,
     "metadata": {},
     "output_type": "execute_result"
    }
   ],
   "source": [
    "## test symbol to vector\n",
    "%time vecs = sax.symbol_to_vector(psymbols)\n",
    "vecs.shape"
   ]
  },
  {
   "cell_type": "code",
   "execution_count": 67,
   "metadata": {
    "collapsed": false
   },
   "outputs": [
    {
     "data": {
      "text/plain": [
       "(0.94752308678997377, 1.6411581276647296)"
      ]
     },
     "execution_count": 67,
     "metadata": {},
     "output_type": "execute_result"
    }
   ],
   "source": [
    "## test symbol distance\n",
    "reload(pysax)\n",
    "sax = pysax.SAXModel(window=20, stride = 5, nbins = 5, alphabet=\"ABCD\")\n",
    "sax.symbol_distance(psymbols[0], psymbols[1]), sax.symbol_distance(psymbols[1], psymbols[2])"
   ]
  },
  {
   "cell_type": "code",
   "execution_count": 68,
   "metadata": {
    "collapsed": false
   },
   "outputs": [],
   "source": [
    "v1, v2, v3 = sax.symbol_to_vector(psymbols[:3])"
   ]
  },
  {
   "cell_type": "code",
   "execution_count": 69,
   "metadata": {
    "collapsed": false
   },
   "outputs": [
    {
     "data": {
      "text/plain": [
       "(1.5712892795408491, 2.0650786909946075)"
      ]
     },
     "execution_count": 69,
     "metadata": {},
     "output_type": "execute_result"
    }
   ],
   "source": [
    "np.sqrt(np.sum( (v1-v2)**2 )), np.sqrt(np.sum( (v2-v3)**2 ))"
   ]
  },
  {
   "cell_type": "code",
   "execution_count": 70,
   "metadata": {
    "collapsed": false
   },
   "outputs": [
    {
     "data": {
      "text/plain": [
       "['ABCDB', 'ACCBD', 'DACCB']"
      ]
     },
     "execution_count": 70,
     "metadata": {},
     "output_type": "execute_result"
    }
   ],
   "source": [
    "psymbols[:3]"
   ]
  },
  {
   "cell_type": "code",
   "execution_count": null,
   "metadata": {
    "collapsed": true
   },
   "outputs": [],
   "source": []
  }
 ],
 "metadata": {
  "kernelspec": {
   "display_name": "Python 2",
   "language": "python",
   "name": "python2"
  },
  "language_info": {
   "codemirror_mode": {
    "name": "ipython",
    "version": 2
   },
   "file_extension": ".py",
   "mimetype": "text/x-python",
   "name": "python",
   "nbconvert_exporter": "python",
   "pygments_lexer": "ipython2",
   "version": "2.7.6"
  }
 },
 "nbformat": 4,
 "nbformat_minor": 0
}
