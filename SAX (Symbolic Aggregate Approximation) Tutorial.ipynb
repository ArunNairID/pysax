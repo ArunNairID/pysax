{
 "cells": [
  {
   "cell_type": "markdown",
   "metadata": {},
   "source": [
    "## Symbolic Aggregate Approximation\n",
    "\n",
    "### 1.  [reference](http://dl.acm.org/citation.cfm?id=1285965)\n",
    "### 2. main usage for time series data:\n",
    "1. indexing and query\n",
    "2. calculating distance between time-sereis and thus perform clustering/classification\n",
    "3. symbolic representation for time series - inspiring text-mining related tasks such as association mining\n",
    "4. vector representation of time-series\n",
    "    \n",
    "### 3. algorithm steps\n",
    "\n",
    "1. Segment time-series data into gapless pieces (e.g., gap introduced by missing values or change of sampling frequences)\n",
    "\n",
    "2. Each piece will be SAXed into a sequence of \"words\" (e.g., \"abcdd\" \"aabcd\", ...). This is done by rolling a sliding window of length $window$ with a stride of length $stride$. If $stride$ < $window$, there will be overlapping of different windows. Later each window will be converted into one word\n",
    "\n",
    "3. for each sliding window:\n",
    "\n",
    "    3.1 whiten/normalize across the window (it is the step key to many problems)\n",
    "    \n",
    "    3.2 discretize on time axis (index) by grouping points into equal-sized bins (bin sizes could be fractional) - controlled by $nbins$. For each bin, use the mean of bin as local approximation.\n",
    "    \n",
    "    3.3 discretize on value axis by dividing values into $nlevels$ quantiles (equiprobability), for each level, calculate the \"letter\" by $cutpoint$ table\n",
    "    \n",
    "    3.4 at the end, each bin in a sliding window will be mapped to a letter, each window in the piece of time-series will be mapped to a word, and the whole piece of series will be a sentence\n",
    "    \n",
    "    3.5 calcualte the distance between two symoblic representations by their corresponding levels\n",
    "    \n",
    "    3.6 if a vector representation is necessary, each letter can be mapped to a scalar value, such as the mean of the  corresponding level."
   ]
  },
  {
   "cell_type": "markdown",
   "metadata": {},
   "source": [
    "## sax module test"
   ]
  },
  {
   "cell_type": "code",
   "execution_count": 1,
   "metadata": {
    "collapsed": true
   },
   "outputs": [],
   "source": [
    "import matplotlib.pyplot as plt\n",
    "%matplotlib inline"
   ]
  },
  {
   "cell_type": "code",
   "execution_count": 2,
   "metadata": {
    "collapsed": false
   },
   "outputs": [
    {
     "data": {
      "text/plain": [
       "<module 'pysax' from 'pysax.pyc'>"
      ]
     },
     "execution_count": 2,
     "metadata": {},
     "output_type": "execute_result"
    }
   ],
   "source": [
    "import pysax\n",
    "import numpy as np\n",
    "reload(pysax)\n"
   ]
  },
  {
   "cell_type": "code",
   "execution_count": 3,
   "metadata": {
    "collapsed": false
   },
   "outputs": [
    {
     "data": {
      "text/plain": [
       "{'A': -0.67, 'B': -0.335, 'C': 0.335, 'D': 0.67}"
      ]
     },
     "execution_count": 3,
     "metadata": {},
     "output_type": "execute_result"
    }
   ],
   "source": [
    "sax = pysax.SAXModel(window=3, stride=2) \n",
    "sax.sym2vec"
   ]
  },
  {
   "cell_type": "code",
   "execution_count": 4,
   "metadata": {
    "collapsed": false
   },
   "outputs": [
    {
     "name": "stdout",
     "output_type": "stream",
     "text": [
      "0.417287715848 0.226460596754\n",
      "-2.22044604925e-17 0.999999999558\n"
     ]
    }
   ],
   "source": [
    "## test normalization\n",
    "sax = pysax.SAXModel(window=3, stride=2) \n",
    "list(sax.sliding_window_index(10))\n",
    "ws = np.random.random(10)\n",
    "print ws.mean(), ws.std()\n",
    "ss = sax.whiten(ws)\n",
    "print ss.mean(), ss.std() "
   ]
  },
  {
   "cell_type": "code",
   "execution_count": 5,
   "metadata": {
    "collapsed": false
   },
   "outputs": [
    {
     "name": "stdout",
     "output_type": "stream",
     "text": [
      "[[(0, 1), (1, 1), (2, 1), (3, Fraction(1, 5))], [(3, Fraction(4, 5)), (4, 1), (5, 1), (6, Fraction(2, 5))], [(6, Fraction(3, 5)), (7, 1), (8, 1), (9, Fraction(3, 5))], [(9, Fraction(2, 5)), (10, 1), (11, 1), (12, Fraction(4, 5))], [(12, Fraction(1, 5)), (13, 1), (14, 1), (15, 1)]]\n",
      "[[(0, 1), (1, 1), (2, 1), (3, 1)], [(4, Fraction(1, 1)), (5, 1), (6, 1), (7, 1)], [(8, Fraction(1, 1)), (9, 1), (10, 1), (11, 1)], [(12, Fraction(1, 1)), (13, 1), (14, 1), (15, 1)]]\n",
      "[[(0, 1), (1, Fraction(2, 3))], [(1, Fraction(1, 3)), (2, 1), (3, Fraction(1, 3))], [(3, Fraction(2, 3)), (4, 1)]]\n"
     ]
    }
   ],
   "source": [
    "## explore binning\n",
    "\n",
    "from fractions import Fraction\n",
    "def binpack(xs, nbins):\n",
    "    xs = np.asarray(xs)\n",
    "    binsize = Fraction(len(xs), nbins)\n",
    "    wts = [1 for _ in xrange(int(binsize))] + [binsize-int(binsize)]\n",
    "    pos = 0\n",
    "    while pos < len(xs):\n",
    "        if wts[-1] == 0:\n",
    "            n = len(wts) - 1\n",
    "        else:\n",
    "            n = len(wts)\n",
    "        yield zip(xs[pos:(pos+n)], wts[:n])\n",
    "        pos += len(wts) - 1\n",
    "        rest_wts = binsize-(1-wts[-1])\n",
    "        wts = [1-wts[-1]] + [1 for _ in xrange(int(rest_wts))] + [rest_wts-int(rest_wts)]\n",
    "        \n",
    "xs = range(0, 16)\n",
    "print list(binpack(xs, 5))\n",
    "xs = range(0, 16)\n",
    "print list(binpack(xs, 4))\n",
    "xs = range(0, 5)\n",
    "print list(binpack(xs, 3))"
   ]
  },
  {
   "cell_type": "code",
   "execution_count": 6,
   "metadata": {
    "collapsed": false
   },
   "outputs": [
    {
     "name": "stdout",
     "output_type": "stream",
     "text": [
      "[array([1.0, 0.6666666666666666], dtype=object), array([0.3333333333333333, 1.0, 0.3333333333333333], dtype=object), array([0.6666666666666666, 1.0], dtype=object)]\n",
      "\n",
      "[array([ 1.,  1.,  1.]), array([1.0, 1.0, 1.0], dtype=object), array([1.0, 1.0, 1.0], dtype=object)]\n"
     ]
    }
   ],
   "source": [
    "## test binning\n",
    "sax = pysax.SAXModel(nbins=3) \n",
    "print list(sax.binpack(np.ones(5)))\n",
    "print \n",
    "print list(sax.binpack(np.ones(9)))"
   ]
  },
  {
   "cell_type": "code",
   "execution_count": 7,
   "metadata": {
    "collapsed": false
   },
   "outputs": [
    {
     "data": {
      "text/plain": [
       "[B, B, C, C, B, B, C, B, B, C]\n",
       "Categories (3, object): [A < B < C]"
      ]
     },
     "execution_count": 7,
     "metadata": {},
     "output_type": "execute_result"
    }
   ],
   "source": [
    "## explore symbolization\n",
    "import pandas as pd\n",
    "cutpoints = [-np.inf, -0.43, 0.43, np.inf]\n",
    "xs = np.random.random(10)\n",
    "v = pd.cut(xs, bins = cutpoints, labels=[\"A\", \"B\", \"C\"])\n",
    "v"
   ]
  },
  {
   "cell_type": "code",
   "execution_count": 8,
   "metadata": {
    "collapsed": false
   },
   "outputs": [
    {
     "name": "stdout",
     "output_type": "stream",
     "text": [
      "[-0.31558981 -1.76942793  0.13600704 -0.03512569 -0.2205349   0.60980844\n",
      "  0.97431246 -1.16999107 -0.48548195  1.54787399]\n"
     ]
    },
    {
     "data": {
      "text/plain": [
       "[B, A, C, B, B, C, D, A, B, D]\n",
       "Categories (4, object): [A < B < C < D]"
      ]
     },
     "execution_count": 8,
     "metadata": {},
     "output_type": "execute_result"
    }
   ],
   "source": [
    "xs = np.random.randn(10)\n",
    "print xs\n",
    "sax = pysax.SAXModel(window=3, stride=2) \n",
    "sax.symbolize(xs)"
   ]
  },
  {
   "cell_type": "code",
   "execution_count": 9,
   "metadata": {
    "collapsed": false
   },
   "outputs": [
    {
     "name": "stdout",
     "output_type": "stream",
     "text": [
      "[ 0.63045981  1.86333741 -1.15891456  1.62165911 -1.93255981 -2.35015754\n",
      "  4.49624418  3.27932859  3.50768813  0.62853252  0.3631027   3.12461893\n",
      "  4.81542315 -1.48764063  1.3043404   0.67143384  4.3208486   1.58906893\n",
      " -2.15383676  3.6808614 ]\n"
     ]
    },
    {
     "data": {
      "text/plain": [
       "'BBCBC'"
      ]
     },
     "execution_count": 9,
     "metadata": {},
     "output_type": "execute_result"
    }
   ],
   "source": [
    "sax = pysax.SAXModel(nbins = 5, alphabet=\"ABCD\")\n",
    "xs = np.random.randn(20) * 2 + 1.\n",
    "print xs\n",
    "sax.symbolize_window(xs)"
   ]
  },
  {
   "cell_type": "code",
   "execution_count": 10,
   "metadata": {
    "collapsed": false,
    "scrolled": true
   },
   "outputs": [
    {
     "name": "stdout",
     "output_type": "stream",
     "text": [
      "['ACBDB', 'BBBDB', 'CBCAC', 'BCADB', 'BBCCC', 'BCCCC', 'BCBCC', 'CACBD', 'ACCCC', 'BBCCC', 'CCBDB', 'BCCBB', 'BBBBD', 'BCCDB', 'BCCBB', 'DBBAC', 'ACBDC']\n"
     ]
    },
    {
     "data": {
      "image/png": "[encoded data removed]",
      "text/plain": [
       "<matplotlib.figure.Figure at 0x7fd47fc31310>"
      ]
     },
     "metadata": {},
     "output_type": "display_data"
    }
   ],
   "source": [
    "sax = pysax.SAXModel(window=20, stride = 5, nbins = 5, alphabet=\"ABCD\")\n",
    "xs = np.random.randn(103) * 2 + np.arange(103) * 0.03\n",
    "plt.plot(xs)\n",
    "print sax.symbolize_signal(xs)"
   ]
  },
  {
   "cell_type": "code",
   "execution_count": 11,
   "metadata": {
    "collapsed": false
   },
   "outputs": [
    {
     "name": "stdout",
     "output_type": "stream",
     "text": [
      "save temp file at /tmp/tmpFXlbu3\n",
      "CPU times: user 3.61 s, sys: 362 ms, total: 3.97 s\n",
      "Wall time: 9.59 s\n"
     ]
    }
   ],
   "source": [
    "import pysax\n",
    "import numpy as np \n",
    "reload(pysax)\n",
    "sax = pysax.SAXModel(window=20, stride = 5, nbins = 5, alphabet=\"ABCD\")\n",
    "xs = np.random.randn(1000000) * 2 + np.arange(1000000) * 0.03\n",
    "#plt.plot(xs)\n",
    "%time psymbols = sax.symbolize_signal(xs, parallel=\"joblib\", n_jobs=30)\n"
   ]
  },
  {
   "cell_type": "code",
   "execution_count": 12,
   "metadata": {
    "collapsed": false
   },
   "outputs": [
    {
     "name": "stdout",
     "output_type": "stream",
     "text": [
      "CPU times: user 1min 35s, sys: 239 ms, total: 1min 35s\n",
      "Wall time: 1min 36s\n",
      "True\n"
     ]
    }
   ],
   "source": [
    "sax = pysax.SAXModel(window=20, stride = 5, nbins = 5, alphabet=\"ABCD\")\n",
    "#xs = np.random.randn(1000000) * 2 + np.arange(1000000) * 0.03\n",
    "#plt.plot(xs)\n",
    "%time symbols = sax.symbolize_signal(xs)\n",
    "print np.all(psymbols==symbols)"
   ]
  },
  {
   "cell_type": "code",
   "execution_count": 13,
   "metadata": {
    "collapsed": false
   },
   "outputs": [
    {
     "name": "stdout",
     "output_type": "stream",
     "text": [
      "CPU times: user 639 ms, sys: 18.4 ms, total: 658 ms\n",
      "Wall time: 655 ms\n"
     ]
    },
    {
     "data": {
      "text/plain": [
       "(199997, 5)"
      ]
     },
     "execution_count": 13,
     "metadata": {},
     "output_type": "execute_result"
    }
   ],
   "source": [
    "## test symbol to vector\n",
    "%time vecs = sax.symbol_to_vector(psymbols)\n",
    "vecs.shape"
   ]
  },
  {
   "cell_type": "code",
   "execution_count": 13,
   "metadata": {
    "collapsed": false
   },
   "outputs": [
    {
     "data": {
      "text/plain": [
       "(0.67000000000000004, 0.94752308678997377)"
      ]
     },
     "execution_count": 13,
     "metadata": {},
     "output_type": "execute_result"
    }
   ],
   "source": [
    "## test symbol distance\n",
    "reload(pysax)\n",
    "sax = pysax.SAXModel(window=20, stride = 5, nbins = 5, alphabet=\"ABCD\")\n",
    "sax.symbol_distance(psymbols[0], psymbols[1]), sax.symbol_distance(psymbols[1], psymbols[2])"
   ]
  },
  {
   "cell_type": "code",
   "execution_count": 14,
   "metadata": {
    "collapsed": false
   },
   "outputs": [],
   "source": [
    "v1, v2, v3 = sax.symbol_to_vector(psymbols[:3])"
   ]
  },
  {
   "cell_type": "code",
   "execution_count": 15,
   "metadata": {
    "collapsed": false
   },
   "outputs": [
    {
     "data": {
      "text/plain": [
       "(1.2534552245692705, 1.708171537053583)"
      ]
     },
     "execution_count": 15,
     "metadata": {},
     "output_type": "execute_result"
    }
   ],
   "source": [
    "np.sqrt(np.sum( (v1-v2)**2 )), np.sqrt(np.sum( (v2-v3)**2 ))"
   ]
  },
  {
   "cell_type": "code",
   "execution_count": 16,
   "metadata": {
    "collapsed": false
   },
   "outputs": [
    {
     "data": {
      "text/plain": [
       "['BCCCA', 'CCCAB', 'CBACC']"
      ]
     },
     "execution_count": 16,
     "metadata": {},
     "output_type": "execute_result"
    }
   ],
   "source": [
    "psymbols[:3]"
   ]
  },
  {
   "cell_type": "code",
   "execution_count": 16,
   "metadata": {
    "collapsed": false
   },
   "outputs": [
    {
     "name": "stdout",
     "output_type": "stream",
     "text": [
      "save temp file at /tmp/tmppMHQ0j\n",
      "CPU times: user 3.67 s, sys: 264 ms, total: 3.94 s\n",
      "Wall time: 6.63 s\n"
     ]
    }
   ],
   "source": [
    "## test paa vectors\n",
    "import pysax\n",
    "import numpy as np \n",
    "reload(pysax)\n",
    "sax = pysax.SAXModel(window=20, stride = 5, nbins = 5, alphabet=\"ABCD\")\n",
    "xs = np.random.randn(1000000) * 2 + np.arange(1000000) * 0.03\n",
    "#plt.plot(xs)\n",
    "%time vecs = sax.signal_to_paa_vector(xs, n_jobs=30)"
   ]
  },
  {
   "cell_type": "code",
   "execution_count": 18,
   "metadata": {
    "collapsed": false
   },
   "outputs": [
    {
     "data": {
      "text/plain": [
       "array([[-0.49131074,  1.62839549, -0.80381533, -0.44426905,  0.11099964],\n",
       "       [ 1.15327833, -0.756497  , -0.27754211,  0.21490881, -0.33414803],\n",
       "       [-0.93089096, -0.0275777 , -0.10304008,  0.29420064,  0.7673081 ],\n",
       "       [-0.33223776, -0.67567662,  0.47486092,  0.71436578, -0.18131233],\n",
       "       [-1.00982017,  0.767565  ,  0.17913243,  0.33825312, -0.27513038],\n",
       "       [ 0.30737382,  0.07557118,  0.13841605, -0.42887099, -0.09249007],\n",
       "       [-0.01298879,  0.45044797, -0.33724031,  0.38430008, -0.48451895],\n",
       "       [ 0.08335365,  0.37936841,  0.04859218, -0.90442857,  0.39311433],\n",
       "       [ 0.12875571,  0.01144873, -0.98892862,  0.17450499,  0.6742192 ],\n",
       "       [-0.35727606, -0.93061671,  0.0323782 ,  0.34505075,  0.91046383]])"
      ]
     },
     "execution_count": 18,
     "metadata": {},
     "output_type": "execute_result"
    }
   ],
   "source": [
    "vecs[:10, :]"
   ]
  },
  {
   "cell_type": "code",
   "execution_count": null,
   "metadata": {
    "collapsed": true
   },
   "outputs": [],
   "source": []
  }
 ],
 "metadata": {
  "kernelspec": {
   "display_name": "Python 2",
   "language": "python",
   "name": "python2"
  },
  "language_info": {
   "codemirror_mode": {
    "name": "ipython",
    "version": 2
   },
   "file_extension": ".py",
   "mimetype": "text/x-python",
   "name": "python",
   "nbconvert_exporter": "python",
   "pygments_lexer": "ipython2",
   "version": "2.7.6"
  }
 },
 "nbformat": 4,
 "nbformat_minor": 0
}
